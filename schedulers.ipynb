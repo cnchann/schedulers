{
 "cells": [
  {
   "cell_type": "code",
   "execution_count": 1,
   "metadata": {},
   "outputs": [],
   "source": [
    "import numpy as np\n",
    "from collections import deque\n",
    "import queue"
   ]
  },
  {
   "cell_type": "code",
   "execution_count": 77,
   "metadata": {},
   "outputs": [
    {
     "data": {
      "text/plain": [
       "[(1, 0, 25), (5, 3, 45), (2, 19, 17), (4, 24, 26), (3, 40, 24)]"
      ]
     },
     "execution_count": 77,
     "metadata": {},
     "output_type": "execute_result"
    }
   ],
   "source": [
    "#hyperparameters\n",
    "arr_time = [0,19,40,24,3]\n",
    "cpu_burst = [25,17,24,26,45]\n",
    "process_no = [1,2,3,4,5]\n",
    "processes = list(zip(process_no,arr_time, cpu_burst))\n",
    "processes.sort(key=lambda x: x[1])\n",
    "processes"
   ]
  },
  {
   "cell_type": "code",
   "execution_count": 78,
   "metadata": {},
   "outputs": [],
   "source": [
    "def MLFQ(processes,qFirst,qSecond,preemption=True):\n",
    "    q1 = deque()\n",
    "    q2 = deque()\n",
    "    fcfs = deque()\n",
    "    \n",
    "    time_left = [list(process) for process in processes]\n",
    "    order = [] #process order\n",
    "    time = [] #process time for each process in order\n",
    "    clock = 0\n",
    "    max_cpu_time = processes[0][1] + sum([process[2] for process in processes])\n",
    "    arrived = 0\n",
    "    \n",
    "    def find_cpu_burst(process_no):\n",
    "        for process in processes:\n",
    "            if(process[0] == process_no):\n",
    "                return process[2]\n",
    "        return None\n",
    "    \n",
    "    while(clock != max_cpu_time):\n",
    "        if(arrived != len(processes) and clock == time_left[arrived][1]):\n",
    "            q1.append(time_left[arrived])\n",
    "            arrived = arrived + 1\n",
    "        clock=clock+1\n",
    "        if(len(q1) != 0):\n",
    "            curr_process = q1.popleft()\n",
    "            curr_process[2] = curr_process[2]-1\n",
    "            process_burst = find_cpu_burst(curr_process[0])\n",
    "            if(curr_process[2] == 0):\n",
    "                order.append(curr_process[0])\n",
    "                time.append(clock)\n",
    "            elif(process_burst - curr_process[2] == qFirst):\n",
    "                q2.append(curr_process)\n",
    "                print(process_burst, curr_process[2], qFirst)\n",
    "                order.append(curr_process[0])\n",
    "                time.append(clock)\n",
    "            else:\n",
    "                q1.appendleft(curr_process)\n",
    "            \n",
    "        elif(len(q1) == 0 and len(q2) != 0):\n",
    "            curr_process = q2.popleft()\n",
    "            curr_process[2] = curr_process[2]-1\n",
    "            process_burst = find_cpu_burst(curr_process[0])\n",
    "            if(curr_process[2] == 0):\n",
    "                order.append(curr_process[0])\n",
    "                time.append(clock)\n",
    "            elif(process_burst - curr_process[2] == qFirst + qSecond):\n",
    "                fcfs.append(curr_process)\n",
    "                order.append(curr_process[0])\n",
    "                time.append(clock)\n",
    "            else:\n",
    "                q2.appendleft(curr_process)\n",
    "        \n",
    "        elif(len(q1) == 0 and len(q2) == 0 and len(fcfs) != 0):\n",
    "            curr_process = fcfs.popleft()\n",
    "            curr_process[2] = curr_process[2]-1\n",
    "            if(curr_process[2] == 0):\n",
    "                order.append(curr_process[0])\n",
    "                time.append(clock)\n",
    "            else:\n",
    "                fcfs.appendleft(curr_process)\n",
    "    print(order)\n",
    "    print(time)\n",
    "    return order,time"
   ]
  },
  {
   "cell_type": "code",
   "execution_count": 79,
   "metadata": {
    "scrolled": true
   },
   "outputs": [
    {
     "name": "stdout",
     "output_type": "stream",
     "text": [
      "25 17 8\n",
      "45 37 8\n",
      "17 9 8\n",
      "26 18 8\n",
      "24 16 8\n",
      "[1, 5, 2, 4, 3, 1, 5, 2, 4, 3, 1, 5, 4]\n",
      "[8, 16, 27, 35, 48, 56, 72, 81, 97, 113, 114, 135, 137]\n"
     ]
    },
    {
     "data": {
      "text/plain": [
       "([1, 5, 2, 4, 3, 1, 5, 2, 4, 3, 1, 5, 4],\n",
       " [8, 16, 27, 35, 48, 56, 72, 81, 97, 113, 114, 135, 137])"
      ]
     },
     "execution_count": 79,
     "metadata": {},
     "output_type": "execute_result"
    }
   ],
   "source": [
    "MLFQ(processes,8,16)"
   ]
  },
  {
   "cell_type": "code",
   "execution_count": null,
   "metadata": {},
   "outputs": [],
   "source": []
  }
 ],
 "metadata": {
  "kernelspec": {
   "display_name": "Python 3",
   "language": "python",
   "name": "python3"
  },
  "language_info": {
   "codemirror_mode": {
    "name": "ipython",
    "version": 3
   },
   "file_extension": ".py",
   "mimetype": "text/x-python",
   "name": "python",
   "nbconvert_exporter": "python",
   "pygments_lexer": "ipython3",
   "version": "3.8.2"
  }
 },
 "nbformat": 4,
 "nbformat_minor": 4
}
